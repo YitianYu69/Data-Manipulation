{
 "cells": [
  {
   "cell_type": "code",
   "execution_count": 58,
   "id": "2f5e9a37-b1b8-4caa-84d6-d65674f50fcd",
   "metadata": {},
   "outputs": [],
   "source": [
    "import pandas as pd\n",
    "import numpy as np\n",
    "import matplotlib.pyplot as plt\n",
    "from ipywidgets import interact\n",
    "import ipywidgets as widgets\n",
    "\n",
    "# Set seed for reproducibility\n",
    "np.random.seed(12345)\n",
    "\n",
    "# Create a DataFrame with random data\n",
    "df = pd.DataFrame([np.random.normal(32000, 200000, 3650), \n",
    "                   np.random.normal(43000, 100000, 3650), \n",
    "                   np.random.normal(43500, 140000, 3650), \n",
    "                   np.random.normal(48000, 70000, 3650)], \n",
    "                  index=[1992, 1993, 1994, 1995])"
   ]
  },
  {
   "cell_type": "code",
   "execution_count": 60,
   "id": "b65abc0d-5da0-4766-975e-eee7596f0aef",
   "metadata": {},
   "outputs": [
    {
     "data": {
      "application/vnd.jupyter.widget-view+json": {
       "model_id": "3506221c794d4d439e7b1ac6fa650ac1",
       "version_major": 2,
       "version_minor": 0
      },
      "text/plain": [
       "interactive(children=(IntSlider(value=30000, description='Mean Value:', max=50000), Output()), _dom_classes=('…"
      ]
     },
     "metadata": {},
     "output_type": "display_data"
    }
   ],
   "source": [
    "mean = df.mean(axis=1)\n",
    "errors = df.std(axis=1) / np.sqrt(df.shape[1])\n",
    "\n",
    "\n",
    "@interact(value=widgets.IntSlider(\n",
    "    value=30000,\n",
    "    min=0,\n",
    "    max=50000,\n",
    "    description='Mean Value:',\n",
    "    continous_update='False'\n",
    "))\n",
    "\n",
    "def update(value):\n",
    "\n",
    "    fig, ax = plt.subplots(figsize=(5,5))\n",
    "\n",
    "    bars = ax.bar(df.index, mean, yerr=errors, capsize=15)\n",
    "\n",
    "    norm = plt.Normalize(min(mean), max(mean))\n",
    "    colormap = plt.cm.ScalarMappable(cmap='viridis', norm=norm)\n",
    "\n",
    "    for bar, color in zip(bars, mean):\n",
    "        bar.set_color(colormap.to_rgba(color))\n",
    "\n",
    "    fig.colorbar(colormap, ax=ax, orientation='horizontal')\n",
    "\n",
    "    ax.xaxis.set_ticks(df.index)\n",
    "\n",
    "    ax.axhline(y=value, linestyle='--', c='r')\n",
    "    ax.text(df.index[-1]+0.7, value-1400, f'{value}', color='r', fontsize=15)"
   ]
  },
  {
   "cell_type": "code",
   "execution_count": null,
   "id": "85cfe9ad-bbb9-41be-adf4-8e1834ce8bd1",
   "metadata": {},
   "outputs": [],
   "source": []
  }
 ],
 "metadata": {
  "kernelspec": {
   "display_name": "Python 3 (ipykernel)",
   "language": "python",
   "name": "python3"
  },
  "language_info": {
   "codemirror_mode": {
    "name": "ipython",
    "version": 3
   },
   "file_extension": ".py",
   "mimetype": "text/x-python",
   "name": "python",
   "nbconvert_exporter": "python",
   "pygments_lexer": "ipython3",
   "version": "3.11.7"
  }
 },
 "nbformat": 4,
 "nbformat_minor": 5
}
